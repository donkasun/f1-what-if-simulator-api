{
 "cells": [
  {
   "cell_type": "markdown",
   "metadata": {},
   "source": [
    "# F1 What-If Simulator: Data Exploration and Training\n",
    "\n",
    "This notebook connects to the OpenF1 API to explore Formula 1 data and prepare it for model training."
   ]
  },
  {
   "cell_type": "code",
   "execution_count": null,
   "metadata": {},
   "outputs": [],
   "source": [
    "# Imports\n",
    "import pandas as pd\n",
    "import httpx\n",
    "import asyncio\n",
    "from typing import Dict, List, Optional"
   ]
  },
  {
   "cell_type": "code",
   "execution_count": null,
   "metadata": {},
   "outputs": [],
   "source": [
    "# API Base URL\n",
    "OPENF1_BASE_URL = \"https://api.openf1.org/v1\""
   ]
  },
  {
   "cell_type": "markdown",
   "metadata": {},
   "source": [
    "## Find a Race Session\n",
    "\n",
    "Our goal is to programmatically find the session_key for a specific, complete race event. We will use the 'Bahrain' Grand Prix from the 2023 season as our target."
   ]
  },
  {
   "cell_type": "code",
   "execution_count": null,
   "metadata": {},
   "outputs": [],
   "source": [
    "async def fetch_session_key() -> Optional[str]:\n",
    "    \"\"\"\n",
    "    Fetch the session_key for the Bahrain Grand Prix 2023 Race session.\n",
    "    \n",
    "    Returns:\n",
    "        Optional[str]: The session_key if found, None otherwise\n",
    "    \"\"\"\n",
    "    async with httpx.AsyncClient() as client:\n",
    "        try:\n",
    "            # Step 1: Find the meeting_key for Bahrain 2023\n",
    "            print(\"Step 1: Finding Bahrain 2023 meeting...\")\n",
    "            meetings_response = await client.get(f\"{OPENF1_BASE_URL}/meetings?year=2023\")\n",
    "            meetings_response.raise_for_status()\n",
    "            meetings_data = meetings_response.json()\n",
    "            \n",
    "            # Find Bahrain meeting\n",
    "            bahrain_meeting = None\n",
    "            for meeting in meetings_data:\n",
    "                if meeting.get('meeting_name', '').lower() == 'bahrain':\n",
    "                    bahrain_meeting = meeting\n",
    "                    break\n",
    "            \n",
    "            if not bahrain_meeting:\n",
    "                print(\"Error: Bahrain meeting not found in 2023\")\n",
    "                return None\n",
    "            \n",
    "            meeting_key = bahrain_meeting['meeting_key']\n",
    "            print(f\"Found Bahrain meeting with key: {meeting_key}\")\n",
    "            \n",
    "            # Step 2: Find the Race session for this meeting\n",
    "            print(\"\\nStep 2: Finding Race session...\")\n",
    "            sessions_response = await client.get(f\"{OPENF1_BASE_URL}/sessions?meeting_key={meeting_key}\")\n",
    "            sessions_response.raise_for_status()\n",
    "            sessions_data = sessions_response.json()\n",
    "            \n",
    "            # Find Race session\n",
    "            race_session = None\n",
    "            for session in sessions_data:\n",
    "                if session.get('session_name', '').lower() == 'race':\n",
    "                    race_session = session\n",
    "                    break\n",
    "            \n",
    "            if not race_session:\n",
    "                print(\"Error: Race session not found for Bahrain 2023\")\n",
    "                return None\n",
    "            \n",
    "            session_key = race_session['session_key']\n",
    "            print(f\"Found Race session with key: {session_key}\")\n",
    "            \n",
    "            return session_key\n",
    "            \n",
    "        except httpx.HTTPStatusError as e:\n",
    "            print(f\"HTTP error occurred: {e}\")\n",
    "            return None\n",
    "        except Exception as e:\n",
    "            print(f\"Error occurred: {e}\")\n",
    "            return None\n",
    "\n",
    "# Execute the function\n",
    "session_key = await fetch_session_key()\n",
    "print(f\"\\nFinal session_key: {session_key}\")"
   ]
  },
  {
   "cell_type": "markdown",
   "metadata": {},
   "source": [
    "## Fetch Race Data\n",
    "\n",
    "Now that we have the race session_key, let's fetch the essential data for our simulation."
   ]
  },
  {
   "cell_type": "code",
   "execution_count": null,
   "metadata": {},
   "outputs": [],
   "source": [
    "async def fetch_race_data(session_key: str) -> Dict[str, pd.DataFrame]:\n",
    "    \"\"\"\n",
    "    Fetch race data from OpenF1 API and return as DataFrames.\n",
    "    \n",
    "    Args:\n",
    "        session_key (str): The session key for the race\n",
    "        \n",
    "    Returns:\n",
    "        Dict[str, pd.DataFrame]: Dictionary containing 'laps', 'pit', and 'drivers' DataFrames\n",
    "    \"\"\"\n",
    "    async with httpx.AsyncClient() as client:\n",
    "        try:\n",
    "            print(f\"Fetching data for session_key: {session_key}\")\n",
    "            \n",
    "            # Fetch lap data\n",
    "            print(\"\\nFetching lap data...\")\n",
    "            laps_response = await client.get(f\"{OPENF1_BASE_URL}/laps?session_key={session_key}\")\n",
    "            laps_response.raise_for_status()\n",
    "            laps_data = laps_response.json()\n",
    "            laps_df = pd.DataFrame(laps_data)\n",
    "            \n",
    "            # Fetch pit stop data\n",
    "            print(\"Fetching pit stop data...\")\n",
    "            pit_response = await client.get(f\"{OPENF1_BASE_URL}/pit?session_key={session_key}\")\n",
    "            pit_response.raise_for_status()\n",
    "            pit_data = pit_response.json()\n",
    "            pit_df = pd.DataFrame(pit_data)\n",
    "            \n",
    "            # Fetch driver information\n",
    "            print(\"Fetching driver information...\")\n",
    "            drivers_response = await client.get(f\"{OPENF1_BASE_URL}/drivers?session_key={session_key}\")\n",
    "            drivers_response.raise_for_status()\n",
    "            drivers_data = drivers_response.json()\n",
    "            drivers_df = pd.DataFrame(drivers_data)\n",
    "            \n",
    "            print(\"\\nData fetching completed successfully!\")\n",
    "            \n",
    "            return {\n",
    "                'laps': laps_df,\n",
    "                'pit': pit_df,\n",
    "                'drivers': drivers_df\n",
    "            }\n",
    "            \n",
    "        except httpx.HTTPStatusError as e:\n",
    "            print(f\"HTTP error occurred: {e}\")\n",
    "            return {}\n",
    "        except Exception as e:\n",
    "            print(f\"Error occurred: {e}\")\n",
    "            return {}\n",
    "\n",
    "# Execute the function\n",
    "if session_key:\n",
    "    race_data = await fetch_race_data(session_key)\n",
    "    \n",
    "    # Extract DataFrames\n",
    "    laps_df = race_data.get('laps', pd.DataFrame())\n",
    "    pit_df = race_data.get('pit', pd.DataFrame())\n",
    "    drivers_df = race_data.get('drivers', pd.DataFrame())\n",
    "else:\n",
    "    print(\"Cannot fetch race data without a valid session_key\")"
   ]
  },
  {
   "cell_type": "markdown",
   "metadata": {},
   "source": [
    "## Initial Data Review\n",
    "\n",
    "Let's examine the structure, columns, and data types of our three DataFrames."
   ]
  },
  {
   "cell_type": "code",
   "execution_count": null,
   "metadata": {},
   "outputs": [],
   "source": [
    "# Review Lap Data\n",
    "print(\"=\" * 50)\n",
    "print(\"LAP DATA REVIEW\")\n",
    "print(\"=\" * 50)\n",
    "print(\"\\nFirst 5 rows:\")\n",
    "print(laps_df.head())\n",
    "print(\"\\nDataFrame Info:\")\n",
    "print(laps_df.info())\n",
    "print(f\"\\nShape: {laps_df.shape}\")\n",
    "print(f\"Columns: {list(laps_df.columns)}\")"
   ]
  },
  {
   "cell_type": "code",
   "execution_count": null,
   "metadata": {},
   "outputs": [],
   "source": [
    "# Review Pit Stop Data\n",
    "print(\"=\" * 50)\n",
    "print(\"PIT STOP DATA REVIEW\")\n",
    "print(\"=\" * 50)\n",
    "print(\"\\nFirst 5 rows:\")\n",
    "print(pit_df.head())\n",
    "print(\"\\nDataFrame Info:\")\n",
    "print(pit_df.info())\n",
    "print(f\"\\nShape: {pit_df.shape}\")\n",
    "print(f\"Columns: {list(pit_df.columns)}\")"
   ]
  },
  {
   "cell_type": "code",
   "execution_count": null,
   "metadata": {},
   "outputs": [],
   "source": [
    "# Review Driver Data\n",
    "print(\"=\" * 50)\n",
    "print(\"DRIVER DATA REVIEW\")\n",
    "print(\"=\" * 50)\n",
    "print(\"\\nFirst 5 rows:\")\n",
    "print(drivers_df.head())\n",
    "print(\"\\nDataFrame Info:\")\n",
    "print(drivers_df.info())\n",
    "print(f\"\\nShape: {drivers_df.shape}\")\n",
    "print(f\"Columns: {list(drivers_df.columns)}\")"
   ]
  },
  {
   "cell_type": "markdown",
   "metadata": {},
   "source": [
    "## Summary\n",
    "\n",
    "We have successfully:\n",
    "1. Connected to the OpenF1 API\n",
    "2. Found the session_key for the Bahrain Grand Prix 2023 Race\n",
    "3. Fetched lap data, pit stop data, and driver information\n",
    "4. Reviewed the structure and content of our datasets\n",
    "\n",
    "This data will serve as the foundation for our F1 simulation model training."
   ]
  }
 ],
 "metadata": {
  "kernelspec": {
   "display_name": "Python 3",
   "language": "python",
   "name": "python3"
  },
  "language_info": {
   "codemirror_mode": {
    "name": "ipython",
    "version": 3
   },
   "file_extension": ".py",
   "mimetype": "text/x-python",
   "name": "python",
   "nbconvert_exporter": "python",
   "pygments_lexer": "ipython3",
   "version": "3.8.5"
  }
 },
 "nbformat": 4,
 "nbformat_minor": 4
}
