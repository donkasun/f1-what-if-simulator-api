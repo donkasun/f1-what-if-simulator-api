{
 "cells": [
  {
   "cell_type": "raw",
   "metadata": {
    "vscode": {
     "languageId": "raw"
    }
   },
   "source": [
    "# F1 What-If Simulator: Data Exploration and Training\n",
    "\n",
    "This notebook connects to the OpenF1 API to explore Formula 1 data and prepare it for model training.\n"
   ]
  },
  {
   "cell_type": "code",
   "execution_count": 1,
   "metadata": {},
   "outputs": [],
   "source": [
    "# Imports\n",
    "import pandas as pd\n",
    "import httpx\n",
    "import asyncio\n",
    "from typing import Dict, List, Optional\n"
   ]
  },
  {
   "cell_type": "code",
   "execution_count": 2,
   "metadata": {},
   "outputs": [],
   "source": [
    "# API Base URL\n",
    "OPENF1_BASE_URL = \"https://api.openf1.org/v1\"\n"
   ]
  },
  {
   "cell_type": "raw",
   "metadata": {
    "vscode": {
     "languageId": "raw"
    }
   },
   "source": [
    "## Find a Race Session\n",
    "\n",
    "Our goal is to programmatically find the session_key for a specific, complete race event. We will use the 'Bahrain' Grand Prix from the 2023 season as our target.\n"
   ]
  },
  {
   "cell_type": "code",
   "execution_count": 3,
   "metadata": {},
   "outputs": [
    {
     "name": "stdout",
     "output_type": "stream",
     "text": [
      "Step 1: Finding Bahrain 2023 meeting...\n",
      "Found Bahrain meeting with key: 1141\n",
      "\n",
      "Step 2: Finding Race session...\n",
      "Found Race session with key: 7953\n",
      "\n",
      "Final session_key: 7953\n"
     ]
    }
   ],
   "source": [
    "async def fetch_session_key() -> Optional[str]:\n",
    "    \"\"\"\n",
    "    Fetch the session_key for the Bahrain Grand Prix 2023 Race session.\n",
    "    \n",
    "    Returns:\n",
    "        Optional[str]: The session_key if found, None otherwise\n",
    "    \"\"\"\n",
    "    async with httpx.AsyncClient() as client:\n",
    "        try:\n",
    "            # Step 1: Find the meeting_key for Bahrain 2023\n",
    "            print(\"Step 1: Finding Bahrain 2023 meeting...\")\n",
    "            meetings_response = await client.get(f\"{OPENF1_BASE_URL}/meetings?year=2023\")\n",
    "            meetings_response.raise_for_status()\n",
    "            meetings_data = meetings_response.json()\n",
    "            \n",
    "            # Find Bahrain meeting - FIXED: Using 'in' instead of exact match\n",
    "            bahrain_meeting = None\n",
    "            for meeting in meetings_data:\n",
    "                if 'bahrain' in meeting.get('meeting_name', '').lower():\n",
    "                    bahrain_meeting = meeting\n",
    "                    break\n",
    "            \n",
    "            if not bahrain_meeting:\n",
    "                print(\"Error: Bahrain meeting not found in 2023\")\n",
    "                return None\n",
    "            \n",
    "            meeting_key = bahrain_meeting['meeting_key']\n",
    "            print(f\"Found Bahrain meeting with key: {meeting_key}\")\n",
    "            \n",
    "            # Step 2: Find the Race session for this meeting\n",
    "            print(\"\\nStep 2: Finding Race session...\")\n",
    "            sessions_response = await client.get(f\"{OPENF1_BASE_URL}/sessions?meeting_key={meeting_key}\")\n",
    "            sessions_response.raise_for_status()\n",
    "            sessions_data = sessions_response.json()\n",
    "            \n",
    "            # Find Race session\n",
    "            race_session = None\n",
    "            for session in sessions_data:\n",
    "                if session.get('session_name', '').lower() == 'race':\n",
    "                    race_session = session\n",
    "                    break\n",
    "            \n",
    "            if not race_session:\n",
    "                print(\"Error: Race session not found for Bahrain 2023\")\n",
    "                return None\n",
    "            \n",
    "            session_key = race_session['session_key']\n",
    "            print(f\"Found Race session with key: {session_key}\")\n",
    "            \n",
    "            return session_key\n",
    "            \n",
    "        except httpx.HTTPStatusError as e:\n",
    "            print(f\"HTTP error occurred: {e}\")\n",
    "            return None\n",
    "        except Exception as e:\n",
    "            print(f\"Error occurred: {e}\")\n",
    "            return None\n",
    "\n",
    "# Execute the function\n",
    "session_key = await fetch_session_key()\n",
    "print(f\"\\nFinal session_key: {session_key}\")\n"
   ]
  }
 ],
 "metadata": {
  "kernelspec": {
   "display_name": "Python 3",
   "language": "python",
   "name": "python3"
  },
  "language_info": {
   "codemirror_mode": {
    "name": "ipython",
    "version": 3
   },
   "file_extension": ".py",
   "mimetype": "text/x-python",
   "name": "python",
   "nbconvert_exporter": "python",
   "pygments_lexer": "ipython3",
   "version": "3.12.8"
  }
 },
 "nbformat": 4,
 "nbformat_minor": 4
}
